{
 "cells": [
  {
   "cell_type": "markdown",
   "id": "0bb04973",
   "metadata": {},
   "source": [
    "# Master Mind Code"
   ]
  },
  {
   "cell_type": "markdown",
   "id": "43e7161c",
   "metadata": {},
   "source": [
    "This is a place to experiment and store raw code before I convert it into a script. "
   ]
  },
  {
   "cell_type": "markdown",
   "id": "a53deef9",
   "metadata": {},
   "source": [
    "## Raw code"
   ]
  },
  {
   "cell_type": "markdown",
   "id": "fed1a2bf",
   "metadata": {},
   "source": [
    "#### Generate  Secret Code"
   ]
  },
  {
   "cell_type": "code",
   "execution_count": 3,
   "id": "26682d61",
   "metadata": {},
   "outputs": [
    {
     "name": "stdout",
     "output_type": "stream",
     "text": [
      "blue\n",
      "['black', 'green', 'white', 'green']\n"
     ]
    }
   ],
   "source": [
    "# Importing random module\n",
    "import random\n",
    "\n",
    "# Define list of colours\n",
    "colours = [\"red\", \"yellow\", \"green\", \"blue\", \"white\", \"black\"]\n",
    "\n",
    "# Choose random colour\n",
    "print(random.choice(colours))\n",
    "\n",
    "# Choose four random colours\n",
    "code = [random.choice(colours) for i in range(4)]\n",
    "print(code)"
   ]
  },
  {
   "cell_type": "markdown",
   "id": "84a5f236",
   "metadata": {},
   "source": [
    "#### The player guesses"
   ]
  },
  {
   "cell_type": "code",
   "execution_count": 4,
   "id": "05996315",
   "metadata": {},
   "outputs": [],
   "source": [
    "# Define variable for guess\n",
    "guess = [\"white\", \"white\", \"white\", \"white\"]\n",
    "# > I can probably limit the input of the player in the scripting process"
   ]
  },
  {
   "cell_type": "markdown",
   "id": "e635a21c",
   "metadata": {},
   "source": [
    "#### Scoring the player"
   ]
  },
  {
   "cell_type": "code",
   "execution_count": 8,
   "id": "5537211d",
   "metadata": {},
   "outputs": [
    {
     "name": "stdout",
     "output_type": "stream",
     "text": [
      "['Black', 'White', 'White', 'White']\n"
     ]
    }
   ],
   "source": [
    "# Define empty list for the score\n",
    "score = []\n",
    "\n",
    "# > Calculate score:\n",
    "# Loop for Black score  \n",
    "for i, j in zip(guess, code):\n",
    "    if i == j:\n",
    "        score.append(\"Black\")\n",
    "    elif i in code:\n",
    "        score.append(\"White\") \n",
    "\n",
    "# Print score\n",
    "score.sort()\n",
    "print(score)"
   ]
  },
  {
   "cell_type": "markdown",
   "id": "897e11d5",
   "metadata": {},
   "source": [
    "#### Display guess:"
   ]
  },
  {
   "cell_type": "markdown",
   "id": "9fc753f6",
   "metadata": {},
   "source": [
    "Simple display"
   ]
  },
  {
   "cell_type": "code",
   "execution_count": 13,
   "id": "97088c17",
   "metadata": {},
   "outputs": [
    {
     "name": "stdout",
     "output_type": "stream",
     "text": [
      "['white', 'white', 'white', 'white'] | ['Black', 'White', 'White', 'White']\n"
     ]
    }
   ],
   "source": [
    "# Define print\n",
    "dis_score = f\"{guess} | {score}\"\n",
    "\n",
    "# Print\n",
    "print(dis_score)"
   ]
  },
  {
   "cell_type": "markdown",
   "id": "c7be8d64",
   "metadata": {},
   "source": [
    "Display without brackets"
   ]
  },
  {
   "cell_type": "code",
   "execution_count": 18,
   "id": "0f3c3f82",
   "metadata": {},
   "outputs": [
    {
     "name": "stdout",
     "output_type": "stream",
     "text": [
      "white white white white | Black White White White\n"
     ]
    }
   ],
   "source": [
    "# Define print\n",
    "dis_score = ' '.join(str(x) for x in guess) + \" | \" + ' '.join(str(x) for x in score)\n",
    "\n",
    "# Print\n",
    "print(dis_score)"
   ]
  },
  {
   "cell_type": "markdown",
   "id": "0a07012b",
   "metadata": {},
   "source": [
    "Fancy table printing"
   ]
  },
  {
   "cell_type": "code",
   "execution_count": 40,
   "id": "72166193",
   "metadata": {},
   "outputs": [
    {
     "name": "stdout",
     "output_type": "stream",
     "text": [
      "-----------------------  -----------------------\n",
      "white white white white  Black White White White\n",
      "-----------------------  -----------------------\n",
      "1\n"
     ]
    }
   ],
   "source": [
    "# Import modules\n",
    "import pandas as pd\n",
    "from tabulate import tabulate\n",
    "table = [[' '.join(str(x) for x in guess), ' '.join(str(x) for x in score)]]\n",
    "print(tabulate(table))"
   ]
  },
  {
   "cell_type": "code",
   "execution_count": 46,
   "id": "6768e544",
   "metadata": {},
   "outputs": [
    {
     "name": "stdout",
     "output_type": "stream",
     "text": [
      "╒════╤═════════════════════════╤═════════════════════════╕\n",
      "│    │ Guess                   │ Score                   │\n",
      "╞════╪═════════════════════════╪═════════════════════════╡\n",
      "│  1 │ white white white white │ Black White White White │\n",
      "╘════╧═════════════════════════╧═════════════════════════╛\n"
     ]
    }
   ],
   "source": [
    "table = [[\"Guess\", \"Score\"], [' '.join(str(x) for x in guess), ' '.join(str(x) for x in score)]]\n",
    "rowID = range(1, len(table))\n",
    "print(tabulate(table, headers = 'firstrow', tablefmt = 'fancy_grid', showindex = rowID))"
   ]
  },
  {
   "cell_type": "markdown",
   "id": "d8f1c895",
   "metadata": {},
   "source": [
    "Can I append to a list of lists? "
   ]
  },
  {
   "cell_type": "code",
   "execution_count": 47,
   "id": "a95d3a92",
   "metadata": {},
   "outputs": [
    {
     "name": "stdout",
     "output_type": "stream",
     "text": [
      "Headers:\n",
      "[['Guess', 'Score']]\n",
      "Full table\n",
      "[['Guess', 'Score'], ['white white white white', 'Black White White White']]\n"
     ]
    }
   ],
   "source": [
    "table = [[\"Guess\", \"Score\"]]\n",
    "print(\"Headers:\")\n",
    "print(table)\n",
    "table.append([' '.join(str(x) for x in guess), ' '.join(str(x) for x in score)])\n",
    "print(\"Full table\")\n",
    "print(table)"
   ]
  },
  {
   "cell_type": "markdown",
   "id": "d6cbd8f7",
   "metadata": {},
   "source": [
    "In conclution - let's do this with tabulate! "
   ]
  },
  {
   "cell_type": "markdown",
   "id": "fbdc412e",
   "metadata": {},
   "source": [
    "#### This is dumb, but I have extra time, so let's get a mascot!"
   ]
  },
  {
   "cell_type": "code",
   "execution_count": 50,
   "id": "21190bbe",
   "metadata": {},
   "outputs": [
    {
     "name": "stdout",
     "output_type": "stream",
     "text": [
      "d[o_0]b\n"
     ]
    }
   ],
   "source": [
    "\"d[o_0]b\"\n",
    "\"※\\(^o^)/※\"\n",
    "\"ψ(｀∇´)ψ\"\n",
    "\n",
    "print(\"d[o_0]b\")"
   ]
  },
  {
   "cell_type": "markdown",
   "id": "7396a81c",
   "metadata": {},
   "source": [
    "### Creating functions"
   ]
  },
  {
   "cell_type": "markdown",
   "id": "eb040ec9",
   "metadata": {},
   "source": [
    "#### Generate code"
   ]
  },
  {
   "cell_type": "code",
   "execution_count": 51,
   "id": "5649ab57",
   "metadata": {},
   "outputs": [],
   "source": [
    "# Define function for generating a code\n",
    "def generate_code():\n",
    "    # Define list of colours\n",
    "    colours = [\"red\", \"yellow\", \"green\", \"blue\", \"white\", \"black\"]\n",
    "    \n",
    "    # Choose four random colours\n",
    "    code = [random.choice(colours) for i in range(4)]\n",
    "    \n",
    "    return code"
   ]
  },
  {
   "cell_type": "code",
   "execution_count": 52,
   "id": "0d63f68b",
   "metadata": {},
   "outputs": [
    {
     "name": "stdout",
     "output_type": "stream",
     "text": [
      "['green', 'black', 'red', 'yellow']\n"
     ]
    }
   ],
   "source": [
    "code = generate_code()\n",
    "print(code)"
   ]
  },
  {
   "cell_type": "markdown",
   "id": "77f700ba",
   "metadata": {},
   "source": [
    "#### Score guess"
   ]
  },
  {
   "cell_type": "code",
   "execution_count": 53,
   "id": "a6270e55",
   "metadata": {},
   "outputs": [],
   "source": [
    "# Define function that calculates a score for a guess\n",
    "def score_guess(guess):\n",
    "    # Define empty list for the score\n",
    "    score = []\n",
    "    \n",
    "    # > Calculate score:\n",
    "    # Loop for Black score  \n",
    "    for i, j in zip(guess, code):\n",
    "        if i == j:\n",
    "            score.append(\"Black\")\n",
    "        elif i in code:\n",
    "            score.append(\"White\")\n",
    "    \n",
    "    # Sort score\n",
    "    score.sort()\n",
    "    \n",
    "    return score  "
   ]
  },
  {
   "cell_type": "code",
   "execution_count": 61,
   "id": "5366c1e8",
   "metadata": {},
   "outputs": [
    {
     "name": "stdout",
     "output_type": "stream",
     "text": [
      "['Black', 'White']\n",
      "<class 'list'>\n"
     ]
    }
   ],
   "source": [
    "guess = [\"white\", \"black\", \"yellow\", \"blue\"]\n",
    "score = score_guess(guess)\n",
    "print(score)\n",
    "print(type(guess))"
   ]
  },
  {
   "cell_type": "markdown",
   "id": "2399b9da",
   "metadata": {},
   "source": [
    "#### Display guess"
   ]
  },
  {
   "cell_type": "code",
   "execution_count": 58,
   "id": "a9c001dd",
   "metadata": {},
   "outputs": [],
   "source": [
    "import pandas as pd\n",
    "from tabulate import tabulate\n",
    "\n",
    "# Define function that displays scores\n",
    "def score_dis(code, score):\n",
    "    # Unpack the guess and score so they look better\n",
    "    guess_str = ' '.join(str(x) for x in guess)\n",
    "    score_str = ' '.join(str(x) for x in score)\n",
    "    \n",
    "    # Define table\n",
    "    table = [[\"Guess\", \"Score\"], [guess_str, score_str]]\n",
    "    \n",
    "    # Print table\n",
    "    print(\"d[o_0]b\")\n",
    "    print(tabulate(table, headers = 'firstrow', tablefmt = 'fancy_grid'))"
   ]
  },
  {
   "cell_type": "code",
   "execution_count": 59,
   "id": "edc67664",
   "metadata": {},
   "outputs": [
    {
     "name": "stdout",
     "output_type": "stream",
     "text": [
      "d[o_0]b\n",
      "╒═════════════════════════╤═════════════╕\n",
      "│ Guess                   │ Score       │\n",
      "╞═════════════════════════╪═════════════╡\n",
      "│ white black yellow blue │ Black White │\n",
      "╘═════════════════════════╧═════════════╛\n"
     ]
    }
   ],
   "source": [
    "score_dis(code, score)"
   ]
  },
  {
   "cell_type": "code",
   "execution_count": 62,
   "id": "9eb97167",
   "metadata": {},
   "outputs": [],
   "source": [
    "import sys"
   ]
  },
  {
   "cell_type": "code",
   "execution_count": null,
   "id": "aaf29095",
   "metadata": {},
   "outputs": [],
   "source": []
  }
 ],
 "metadata": {
  "kernelspec": {
   "display_name": "Python 3 (ipykernel)",
   "language": "python",
   "name": "python3"
  },
  "language_info": {
   "codemirror_mode": {
    "name": "ipython",
    "version": 3
   },
   "file_extension": ".py",
   "mimetype": "text/x-python",
   "name": "python",
   "nbconvert_exporter": "python",
   "pygments_lexer": "ipython3",
   "version": "3.11.1"
  }
 },
 "nbformat": 4,
 "nbformat_minor": 5
}
